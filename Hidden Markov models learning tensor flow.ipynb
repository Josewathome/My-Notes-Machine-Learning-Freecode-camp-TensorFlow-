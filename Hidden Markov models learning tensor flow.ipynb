{
 "cells": [
  {
   "cell_type": "markdown",
   "id": "7e3b89d5",
   "metadata": {},
   "source": [
    "# Hidden Markov Models.\n",
    " this is a finite set of states, each of which is associated with a (generally multidimensional) probability distribution        Trasitions amomg the states are governed by a set of probabilities called transition probabilities.                         \n",
    " Here we deal with probability distribution"
   ]
  },
  {
   "cell_type": "markdown",
   "id": "26bbd587",
   "metadata": {},
   "source": [
    "building a model that can predict the weather on any given day given data of some in vents."
   ]
  },
  {
   "cell_type": "markdown",
   "id": "19d72685",
   "metadata": {},
   "source": [
    "the type of data we use in this model is different\n",
    "we care about the observation not the particuller data.\n",
    "to create a hidden Markov Model we will need:.                                                                                   . states                                                                                                                       . Observation Distribution\n",
    "  . Transition Distribution                                                                                                    \n",
    "this is to predict future events using past events.\n"
   ]
  },
  {
   "cell_type": "code",
   "execution_count": 4,
   "id": "18b02a57",
   "metadata": {},
   "outputs": [],
   "source": [
    "#import the librarys to use\n",
    "import tensorflow_probability as tfp # we are using a different module from tensorflow this time\n",
    "import tensorflow as tf"
   ]
  },
  {
   "cell_type": "markdown",
   "id": "de0ced1e",
   "metadata": {},
   "source": [
    "## Weather Model\n",
    "we will model a simple weather system and try tu predict the temperature on each given day:                                      .  1 cold days are encoded by 0 and hot days by 1                                                                                . 2he first day in our sequence has 80% chance of being cold.                                                                 \n",
    ". 3 a cold day has a 30 % chance of being  followed by a hot day                                                               \n",
    ". 4 a hot day has a 20% chance of being followed by a cold day.                                                                 \n",
    ". 5 on each day the temperature is normally distributed with mean and standard deviation 0 and 5 on a cold day and mean and standard  deviation 15 and ona hot day                                                                                         \n",
    " standard deviation it can be put simply as the range of expected values.                                                       \n",
    " example in this on a hot day the average temperature is 15 and it rangers from 5 to 25                                         \n",
    " "
   ]
  },
  {
   "cell_type": "code",
   "execution_count": 7,
   "id": "80721221",
   "metadata": {},
   "outputs": [],
   "source": [
    "tfd = tfp.distributions # making a short cut for later use\n",
    "initial_distribution = tfd.Categorical(probs=[0.8,0.2])# Refer to piont 2 above\n",
    "transition_distribution = tfd.Categorical(probs = [[0.7,0.3],\n",
    "                                                  [0.2,0.8]]) # refer to points 3 and 4 above\n",
    "observation_distribution = tfd.Normal(loc=[0., 15.], scale=[5.,10.])# refer to point 5 above\n",
    "   # the loc argument represents the mean and the scale is the standard deviation"
   ]
  },
  {
   "cell_type": "markdown",
   "id": "fbd42d7f",
   "metadata": {},
   "source": [
    "### building the Markov Model"
   ]
  },
  {
   "cell_type": "code",
   "execution_count": 9,
   "id": "68739b98",
   "metadata": {},
   "outputs": [],
   "source": [
    "model = tfd.HiddenMarkovModel(\n",
    "    initial_distribution =  initial_distribution,\n",
    "    transition_distribution = transition_distribution,\n",
    "    observation_distribution = observation_distribution,\n",
    "    num_steps = 7)"
   ]
  },
  {
   "cell_type": "markdown",
   "id": "cdec9005",
   "metadata": {},
   "source": [
    "the number of steps represent the number of days we wold like to predict information for in this case we choose 7 meaning for entire week"
   ]
  },
  {
   "cell_type": "markdown",
   "id": "ba7d54d9",
   "metadata": {},
   "source": [
    "to get the expected temperatures\n",
    "on each day we can do the following"
   ]
  },
  {
   "cell_type": "code",
   "execution_count": 12,
   "id": "2b1554bc",
   "metadata": {},
   "outputs": [
    {
     "name": "stdout",
     "output_type": "stream",
     "text": [
      "[3.        5.9999995 7.4999995 8.25      8.625     8.812501  8.90625  ]\n"
     ]
    }
   ],
   "source": [
    "mean = model.mean()\n",
    "# due to the way Tensorflow workson lower level we need to evaluate part of the graph\n",
    "# from within a session to see the value of this tensor\n",
    "#in the new version of tensor flow we need to use tf.compat.v1.Session() rather than just tf.Session()\n",
    "with tf.compat.v1.Session() as sess:\n",
    "    print(mean.numpy())"
   ]
  },
  {
   "cell_type": "markdown",
   "id": "d93f8745",
   "metadata": {},
   "source": [
    "## the end"
   ]
  }
 ],
 "metadata": {
  "kernelspec": {
   "display_name": "Python 3 (ipykernel)",
   "language": "python",
   "name": "python3"
  },
  "language_info": {
   "codemirror_mode": {
    "name": "ipython",
    "version": 3
   },
   "file_extension": ".py",
   "mimetype": "text/x-python",
   "name": "python",
   "nbconvert_exporter": "python",
   "pygments_lexer": "ipython3",
   "version": "3.9.13"
  }
 },
 "nbformat": 4,
 "nbformat_minor": 5
}
