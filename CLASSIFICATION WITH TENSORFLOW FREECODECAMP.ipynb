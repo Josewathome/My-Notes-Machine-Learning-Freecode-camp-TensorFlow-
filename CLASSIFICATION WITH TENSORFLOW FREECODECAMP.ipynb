{
 "cells": [
  {
   "cell_type": "markdown",
   "id": "0f6acbb5",
   "metadata": {},
   "source": [
    "## CLASSIFICATION IN TENSOR FLOW\n",
    "Classification is used to separate data points into classes of different labels. in this example we will use tensoreflow\n",
    "estimator to classify flowers"
   ]
  },
  {
   "cell_type": "code",
   "execution_count": 2,
   "id": "ddcdbd1d",
   "metadata": {},
   "outputs": [],
   "source": [
    "from __future__ import absolute_import, division, print_function, unicode_literals\n",
    "import tensorflow as tf\n",
    "import pandas as pd"
   ]
  },
  {
   "cell_type": "code",
   "execution_count": 3,
   "id": "1d439962",
   "metadata": {},
   "outputs": [],
   "source": [
    "#Dataset\n",
    "csv_column_names = ['SepalLength','SepalWidth','PetalWidth','Species']\n",
    "species =['setosa', 'Versicolor','Virginica'] # in order of 1,2,3\n",
    "# lets now deifine some constunts to help us later."
   ]
  },
  {
   "cell_type": "code",
   "execution_count": 4,
   "id": "6caab1f0",
   "metadata": {},
   "outputs": [],
   "source": [
    "train_path = tf.keras.utils.get_file('iris_training.csv', 'https://storage.googleapis.com/download.tensorflow.org/data/iris_training.csv')\n",
    "test_path = tf.keras.utils.get_file('iris_test.csv','https://storage.googleapis.com/download.tensorflow.org/data/iris_test.csv')\n",
    "\n",
    "train = pd.read_csv(train_path, names = csv_column_names, header = 0)\n",
    "test = pd.read_csv(test_path, names =  csv_column_names, header = 0)\n",
    "#here we are usein the keras(a module inside tensorflow) to grab our datasets and read the, into pandas dataframe"
   ]
  },
  {
   "cell_type": "code",
   "execution_count": 5,
   "id": "d3733630",
   "metadata": {},
   "outputs": [
    {
     "data": {
      "text/html": [
       "<div>\n",
       "<style scoped>\n",
       "    .dataframe tbody tr th:only-of-type {\n",
       "        vertical-align: middle;\n",
       "    }\n",
       "\n",
       "    .dataframe tbody tr th {\n",
       "        vertical-align: top;\n",
       "    }\n",
       "\n",
       "    .dataframe thead th {\n",
       "        text-align: right;\n",
       "    }\n",
       "</style>\n",
       "<table border=\"1\" class=\"dataframe\">\n",
       "  <thead>\n",
       "    <tr style=\"text-align: right;\">\n",
       "      <th></th>\n",
       "      <th>SepalLength</th>\n",
       "      <th>SepalWidth</th>\n",
       "      <th>PetalWidth</th>\n",
       "      <th>Species</th>\n",
       "    </tr>\n",
       "  </thead>\n",
       "  <tbody>\n",
       "    <tr>\n",
       "      <th>6.4</th>\n",
       "      <td>2.8</td>\n",
       "      <td>5.6</td>\n",
       "      <td>2.2</td>\n",
       "      <td>2</td>\n",
       "    </tr>\n",
       "    <tr>\n",
       "      <th>5.0</th>\n",
       "      <td>2.3</td>\n",
       "      <td>3.3</td>\n",
       "      <td>1.0</td>\n",
       "      <td>1</td>\n",
       "    </tr>\n",
       "    <tr>\n",
       "      <th>4.9</th>\n",
       "      <td>2.5</td>\n",
       "      <td>4.5</td>\n",
       "      <td>1.7</td>\n",
       "      <td>2</td>\n",
       "    </tr>\n",
       "    <tr>\n",
       "      <th>4.9</th>\n",
       "      <td>3.1</td>\n",
       "      <td>1.5</td>\n",
       "      <td>0.1</td>\n",
       "      <td>0</td>\n",
       "    </tr>\n",
       "    <tr>\n",
       "      <th>5.7</th>\n",
       "      <td>3.8</td>\n",
       "      <td>1.7</td>\n",
       "      <td>0.3</td>\n",
       "      <td>0</td>\n",
       "    </tr>\n",
       "  </tbody>\n",
       "</table>\n",
       "</div>"
      ],
      "text/plain": [
       "     SepalLength  SepalWidth  PetalWidth  Species\n",
       "6.4          2.8         5.6         2.2        2\n",
       "5.0          2.3         3.3         1.0        1\n",
       "4.9          2.5         4.5         1.7        2\n",
       "4.9          3.1         1.5         0.1        0\n",
       "5.7          3.8         1.7         0.3        0"
      ]
     },
     "execution_count": 5,
     "metadata": {},
     "output_type": "execute_result"
    }
   ],
   "source": [
    "train.head()"
   ]
  },
  {
   "cell_type": "code",
   "execution_count": 6,
   "id": "8c712ba8",
   "metadata": {},
   "outputs": [
    {
     "data": {
      "text/html": [
       "<div>\n",
       "<style scoped>\n",
       "    .dataframe tbody tr th:only-of-type {\n",
       "        vertical-align: middle;\n",
       "    }\n",
       "\n",
       "    .dataframe tbody tr th {\n",
       "        vertical-align: top;\n",
       "    }\n",
       "\n",
       "    .dataframe thead th {\n",
       "        text-align: right;\n",
       "    }\n",
       "</style>\n",
       "<table border=\"1\" class=\"dataframe\">\n",
       "  <thead>\n",
       "    <tr style=\"text-align: right;\">\n",
       "      <th></th>\n",
       "      <th>SepalLength</th>\n",
       "      <th>SepalWidth</th>\n",
       "      <th>PetalWidth</th>\n",
       "    </tr>\n",
       "  </thead>\n",
       "  <tbody>\n",
       "    <tr>\n",
       "      <th>6.4</th>\n",
       "      <td>2.8</td>\n",
       "      <td>5.6</td>\n",
       "      <td>2.2</td>\n",
       "    </tr>\n",
       "    <tr>\n",
       "      <th>5.0</th>\n",
       "      <td>2.3</td>\n",
       "      <td>3.3</td>\n",
       "      <td>1.0</td>\n",
       "    </tr>\n",
       "    <tr>\n",
       "      <th>4.9</th>\n",
       "      <td>2.5</td>\n",
       "      <td>4.5</td>\n",
       "      <td>1.7</td>\n",
       "    </tr>\n",
       "    <tr>\n",
       "      <th>4.9</th>\n",
       "      <td>3.1</td>\n",
       "      <td>1.5</td>\n",
       "      <td>0.1</td>\n",
       "    </tr>\n",
       "    <tr>\n",
       "      <th>5.7</th>\n",
       "      <td>3.8</td>\n",
       "      <td>1.7</td>\n",
       "      <td>0.3</td>\n",
       "    </tr>\n",
       "  </tbody>\n",
       "</table>\n",
       "</div>"
      ],
      "text/plain": [
       "     SepalLength  SepalWidth  PetalWidth\n",
       "6.4          2.8         5.6         2.2\n",
       "5.0          2.3         3.3         1.0\n",
       "4.9          2.5         4.5         1.7\n",
       "4.9          3.1         1.5         0.1\n",
       "5.7          3.8         1.7         0.3"
      ]
     },
     "execution_count": 6,
     "metadata": {},
     "output_type": "execute_result"
    }
   ],
   "source": [
    "#now we can pop up the column that we want to use as our label or our prediction column. which is the label\n",
    "train_y = train.pop('Species')\n",
    "test_y = test.pop('Species')\n",
    "train.head() # the species column is now gone"
   ]
  },
  {
   "cell_type": "code",
   "execution_count": 7,
   "id": "f115f3a2",
   "metadata": {},
   "outputs": [
    {
     "data": {
      "text/plain": [
       "(120, 3)"
      ]
     },
     "execution_count": 7,
     "metadata": {},
     "output_type": "execute_result"
    }
   ],
   "source": [
    "train.shape"
   ]
  },
  {
   "cell_type": "markdown",
   "id": "364e67e1",
   "metadata": {},
   "source": [
    "### THE INPUT FUNCTION"
   ]
  },
  {
   "cell_type": "code",
   "execution_count": 8,
   "id": "3f01c08f",
   "metadata": {},
   "outputs": [],
   "source": [
    "# we do the imput function this we use in training.\n",
    "def input_fn (features, labels, training =  True, batch_size = 256):\n",
    "    #convert the inputs into a dataset\n",
    "    dataset = tf.data.Dataset.from_tensor_slices((dict(features), labels))\n",
    "    \n",
    "    #shuffule and reapeat if we are training the model\n",
    "    if training:\n",
    "        dataset = dataset.shuffle(1000).repeat()\n",
    "    return dataset.batch(batch_size)"
   ]
  },
  {
   "cell_type": "markdown",
   "id": "b1638ae7",
   "metadata": {},
   "source": [
    "### Feature Columns"
   ]
  },
  {
   "cell_type": "code",
   "execution_count": 9,
   "id": "2b5fc01f",
   "metadata": {},
   "outputs": [
    {
     "name": "stdout",
     "output_type": "stream",
     "text": [
      "WARNING:tensorflow:From C:\\Users\\josep\\AppData\\Local\\Temp\\ipykernel_12652\\3688192424.py:4: numeric_column (from tensorflow.python.feature_column.feature_column_v2) is deprecated and will be removed in a future version.\n",
      "Instructions for updating:\n",
      "Use Keras preprocessing layers instead, either directly or via the `tf.keras.utils.FeatureSpace` utility. Each of `tf.feature_column.*` has a functional equivalent in `tf.keras.layers` for feature preprocessing when training a Keras model.\n",
      "[NumericColumn(key='SepalLength', shape=(1,), default_value=None, dtype=tf.float32, normalizer_fn=None), NumericColumn(key='SepalWidth', shape=(1,), default_value=None, dtype=tf.float32, normalizer_fn=None), NumericColumn(key='PetalWidth', shape=(1,), default_value=None, dtype=tf.float32, normalizer_fn=None)]\n"
     ]
    }
   ],
   "source": [
    "# this feature columns describe how to use the input function\n",
    "my_feature_columns = []\n",
    "for key in train.keys():\n",
    "    my_feature_columns.append(tf.feature_column.numeric_column(key =key))\n",
    "print (my_feature_columns)"
   ]
  },
  {
   "cell_type": "markdown",
   "id": "a3bf7807",
   "metadata": {},
   "source": [
    "### BUILDING THE MODEL.\n",
    "in building the model  there are many classification models  a viraity of estimators\n",
    "some options are:-\n",
    "    . DNNClassifier( Deep Neural Network)\n",
    "    . LinearClassifier\n",
    "we can choose either model but the DNN seems to be best choice. this is becouse we may not be able to find a linesar correspondence in our data."
   ]
  },
  {
   "cell_type": "code",
   "execution_count": 10,
   "id": "cbeda04f",
   "metadata": {},
   "outputs": [
    {
     "name": "stdout",
     "output_type": "stream",
     "text": [
      "WARNING:tensorflow:From C:\\Users\\josep\\AppData\\Local\\Temp\\ipykernel_12652\\3392548449.py:2: DNNClassifierV2.__init__ (from tensorflow_estimator.python.estimator.canned.dnn) is deprecated and will be removed in a future version.\n",
      "Instructions for updating:\n",
      "Use tf.keras instead.\n",
      "WARNING:tensorflow:From C:\\Users\\josep\\anaconda3\\lib\\site-packages\\tensorflow_estimator\\python\\estimator\\head\\head_utils.py:59: MultiClassHead.__init__ (from tensorflow_estimator.python.estimator.head.multi_class_head) is deprecated and will be removed in a future version.\n",
      "Instructions for updating:\n",
      "Use tf.keras instead.\n",
      "WARNING:tensorflow:From C:\\Users\\josep\\anaconda3\\lib\\site-packages\\tensorflow_estimator\\python\\estimator\\canned\\dnn.py:759: Estimator.__init__ (from tensorflow_estimator.python.estimator.estimator) is deprecated and will be removed in a future version.\n",
      "Instructions for updating:\n",
      "Use tf.keras instead.\n",
      "WARNING:tensorflow:From C:\\Users\\josep\\anaconda3\\lib\\site-packages\\tensorflow_estimator\\python\\estimator\\estimator.py:1844: RunConfig.__init__ (from tensorflow_estimator.python.estimator.run_config) is deprecated and will be removed in a future version.\n",
      "Instructions for updating:\n",
      "Use tf.keras instead.\n",
      "INFO:tensorflow:Using default config.\n",
      "WARNING:tensorflow:Using temporary folder as model directory: C:\\Users\\josep\\AppData\\Local\\Temp\\tmpp5wjsd2b\n",
      "INFO:tensorflow:Using config: {'_model_dir': 'C:\\\\Users\\\\josep\\\\AppData\\\\Local\\\\Temp\\\\tmpp5wjsd2b', '_tf_random_seed': None, '_save_summary_steps': 100, '_save_checkpoints_steps': None, '_save_checkpoints_secs': 600, '_session_config': allow_soft_placement: true\n",
      "graph_options {\n",
      "  rewrite_options {\n",
      "    meta_optimizer_iterations: ONE\n",
      "  }\n",
      "}\n",
      ", '_keep_checkpoint_max': 5, '_keep_checkpoint_every_n_hours': 10000, '_log_step_count_steps': 100, '_train_distribute': None, '_device_fn': None, '_protocol': None, '_eval_distribute': None, '_experimental_distribute': None, '_experimental_max_worker_delay_secs': None, '_session_creation_timeout_secs': 7200, '_checkpoint_save_graph_def': True, '_service': None, '_cluster_spec': ClusterSpec({}), '_task_type': 'worker', '_task_id': 0, '_global_id_in_cluster': 0, '_master': '', '_evaluation_master': '', '_is_chief': True, '_num_ps_replicas': 0, '_num_worker_replicas': 1}\n"
     ]
    }
   ],
   "source": [
    "# Building the DNN with 2 hidden layers with 30 and 10 hidden nodes each.\n",
    "classifier = tf.estimator.DNNClassifier(feature_columns = my_feature_columns,#\n",
    "                                        #Two hidden layers of 30 and 10 nodes respectively\n",
    "                                        hidden_units = [30,10],\n",
    "                                        # the model must choose between 3 classes.\n",
    "                                       n_classes= 3)\n",
    "# "
   ]
  },
  {
   "cell_type": "markdown",
   "id": "c2e08ce1",
   "metadata": {},
   "source": [
    "### Training the model"
   ]
  },
  {
   "cell_type": "code",
   "execution_count": 11,
   "id": "074aa69f",
   "metadata": {},
   "outputs": [
    {
     "name": "stdout",
     "output_type": "stream",
     "text": [
      "WARNING:tensorflow:From C:\\Users\\josep\\anaconda3\\lib\\site-packages\\tensorflow_estimator\\python\\estimator\\estimator.py:385: StopAtStepHook.__init__ (from tensorflow.python.training.basic_session_run_hooks) is deprecated and will be removed in a future version.\n",
      "Instructions for updating:\n",
      "Use tf.keras instead.\n",
      "INFO:tensorflow:Calling model_fn.\n",
      "WARNING:tensorflow:From C:\\Users\\josep\\anaconda3\\lib\\site-packages\\keras\\src\\optimizers\\legacy\\adagrad.py:93: calling Constant.__init__ (from tensorflow.python.ops.init_ops) with dtype is deprecated and will be removed in a future version.\n",
      "Instructions for updating:\n",
      "Call initializer instance with the dtype argument instead of passing it to the constructor\n",
      "WARNING:tensorflow:From C:\\Users\\josep\\anaconda3\\lib\\site-packages\\tensorflow_estimator\\python\\estimator\\model_fn.py:250: EstimatorSpec.__new__ (from tensorflow_estimator.python.estimator.model_fn) is deprecated and will be removed in a future version.\n",
      "Instructions for updating:\n",
      "Use tf.keras instead.\n",
      "INFO:tensorflow:Done calling model_fn.\n",
      "WARNING:tensorflow:From C:\\Users\\josep\\anaconda3\\lib\\site-packages\\tensorflow_estimator\\python\\estimator\\estimator.py:1416: NanTensorHook.__init__ (from tensorflow.python.training.basic_session_run_hooks) is deprecated and will be removed in a future version.\n",
      "Instructions for updating:\n",
      "Use tf.keras instead.\n",
      "WARNING:tensorflow:From C:\\Users\\josep\\anaconda3\\lib\\site-packages\\tensorflow_estimator\\python\\estimator\\estimator.py:1419: LoggingTensorHook.__init__ (from tensorflow.python.training.basic_session_run_hooks) is deprecated and will be removed in a future version.\n",
      "Instructions for updating:\n",
      "Use tf.keras instead.\n",
      "WARNING:tensorflow:From C:\\Users\\josep\\anaconda3\\lib\\site-packages\\tensorflow\\python\\training\\basic_session_run_hooks.py:232: SecondOrStepTimer.__init__ (from tensorflow.python.training.basic_session_run_hooks) is deprecated and will be removed in a future version.\n",
      "Instructions for updating:\n",
      "Use tf.keras instead.\n",
      "WARNING:tensorflow:From C:\\Users\\josep\\anaconda3\\lib\\site-packages\\tensorflow_estimator\\python\\estimator\\estimator.py:1456: CheckpointSaverHook.__init__ (from tensorflow.python.training.basic_session_run_hooks) is deprecated and will be removed in a future version.\n",
      "Instructions for updating:\n",
      "Use tf.keras instead.\n",
      "INFO:tensorflow:Create CheckpointSaverHook.\n",
      "WARNING:tensorflow:From C:\\Users\\josep\\anaconda3\\lib\\site-packages\\tensorflow\\python\\training\\monitored_session.py:579: StepCounterHook.__init__ (from tensorflow.python.training.basic_session_run_hooks) is deprecated and will be removed in a future version.\n",
      "Instructions for updating:\n",
      "Use tf.keras instead.\n",
      "WARNING:tensorflow:From C:\\Users\\josep\\anaconda3\\lib\\site-packages\\tensorflow\\python\\training\\monitored_session.py:586: SummarySaverHook.__init__ (from tensorflow.python.training.basic_session_run_hooks) is deprecated and will be removed in a future version.\n",
      "Instructions for updating:\n",
      "Use tf.keras instead.\n",
      "INFO:tensorflow:Graph was finalized.\n",
      "INFO:tensorflow:Running local_init_op.\n",
      "INFO:tensorflow:Done running local_init_op.\n",
      "INFO:tensorflow:Calling checkpoint listeners before saving checkpoint 0...\n",
      "INFO:tensorflow:Saving checkpoints for 0 into C:\\Users\\josep\\AppData\\Local\\Temp\\tmpp5wjsd2b\\model.ckpt.\n",
      "INFO:tensorflow:Calling checkpoint listeners after saving checkpoint 0...\n",
      "WARNING:tensorflow:From C:\\Users\\josep\\anaconda3\\lib\\site-packages\\tensorflow\\python\\training\\monitored_session.py:1455: SessionRunArgs.__new__ (from tensorflow.python.training.session_run_hook) is deprecated and will be removed in a future version.\n",
      "Instructions for updating:\n",
      "Use tf.keras instead.\n",
      "WARNING:tensorflow:From C:\\Users\\josep\\anaconda3\\lib\\site-packages\\tensorflow\\python\\training\\monitored_session.py:1454: SessionRunContext.__init__ (from tensorflow.python.training.session_run_hook) is deprecated and will be removed in a future version.\n",
      "Instructions for updating:\n",
      "Use tf.keras instead.\n",
      "WARNING:tensorflow:From C:\\Users\\josep\\anaconda3\\lib\\site-packages\\tensorflow\\python\\training\\monitored_session.py:1474: SessionRunValues.__new__ (from tensorflow.python.training.session_run_hook) is deprecated and will be removed in a future version.\n",
      "Instructions for updating:\n",
      "Use tf.keras instead.\n",
      "INFO:tensorflow:loss = 1.2374339, step = 0\n",
      "INFO:tensorflow:global_step/sec: 272.415\n",
      "INFO:tensorflow:loss = 1.1240474, step = 100 (0.367 sec)\n",
      "INFO:tensorflow:global_step/sec: 431.222\n",
      "INFO:tensorflow:loss = 1.0691938, step = 200 (0.216 sec)\n",
      "INFO:tensorflow:global_step/sec: 426.603\n",
      "INFO:tensorflow:loss = 1.0330608, step = 300 (0.234 sec)\n",
      "INFO:tensorflow:global_step/sec: 427.299\n",
      "INFO:tensorflow:loss = 1.0090587, step = 400 (0.250 sec)\n",
      "INFO:tensorflow:global_step/sec: 401.26\n",
      "INFO:tensorflow:loss = 0.9819243, step = 500 (0.234 sec)\n",
      "INFO:tensorflow:global_step/sec: 398.668\n",
      "INFO:tensorflow:loss = 0.96709776, step = 600 (0.251 sec)\n",
      "INFO:tensorflow:global_step/sec: 426.127\n",
      "INFO:tensorflow:loss = 0.9448529, step = 700 (0.250 sec)\n",
      "INFO:tensorflow:global_step/sec: 400.398\n",
      "INFO:tensorflow:loss = 0.925236, step = 800 (0.234 sec)\n",
      "INFO:tensorflow:global_step/sec: 426.836\n",
      "INFO:tensorflow:loss = 0.9108093, step = 900 (0.234 sec)\n",
      "INFO:tensorflow:global_step/sec: 400.488\n",
      "INFO:tensorflow:loss = 0.89989376, step = 1000 (0.250 sec)\n",
      "INFO:tensorflow:global_step/sec: 400.542\n",
      "INFO:tensorflow:loss = 0.8854884, step = 1100 (0.250 sec)\n",
      "INFO:tensorflow:global_step/sec: 398.888\n",
      "INFO:tensorflow:loss = 0.87074333, step = 1200 (0.251 sec)\n",
      "INFO:tensorflow:global_step/sec: 373.888\n",
      "INFO:tensorflow:loss = 0.8568848, step = 1300 (0.267 sec)\n",
      "INFO:tensorflow:global_step/sec: 398.254\n",
      "INFO:tensorflow:loss = 0.8446276, step = 1400 (0.251 sec)\n",
      "INFO:tensorflow:global_step/sec: 398.09\n",
      "INFO:tensorflow:loss = 0.8310679, step = 1500 (0.251 sec)\n",
      "INFO:tensorflow:global_step/sec: 398.805\n",
      "INFO:tensorflow:loss = 0.81643903, step = 1600 (0.251 sec)\n",
      "INFO:tensorflow:global_step/sec: 401.727\n",
      "INFO:tensorflow:loss = 0.8030089, step = 1700 (0.249 sec)\n",
      "INFO:tensorflow:global_step/sec: 425.895\n",
      "INFO:tensorflow:loss = 0.79340684, step = 1800 (0.235 sec)\n",
      "INFO:tensorflow:global_step/sec: 425.417\n",
      "INFO:tensorflow:loss = 0.7839085, step = 1900 (0.235 sec)\n",
      "INFO:tensorflow:global_step/sec: 399.785\n",
      "INFO:tensorflow:loss = 0.78392583, step = 2000 (0.250 sec)\n",
      "INFO:tensorflow:global_step/sec: 425.748\n",
      "INFO:tensorflow:loss = 0.7649156, step = 2100 (0.235 sec)\n",
      "INFO:tensorflow:global_step/sec: 394.353\n",
      "INFO:tensorflow:loss = 0.7596739, step = 2200 (0.256 sec)\n",
      "INFO:tensorflow:global_step/sec: 404.382\n",
      "INFO:tensorflow:loss = 0.75129884, step = 2300 (0.245 sec)\n",
      "INFO:tensorflow:global_step/sec: 401.323\n",
      "INFO:tensorflow:loss = 0.7347704, step = 2400 (0.249 sec)\n",
      "INFO:tensorflow:global_step/sec: 425.903\n",
      "INFO:tensorflow:loss = 0.7222777, step = 2500 (0.250 sec)\n",
      "INFO:tensorflow:global_step/sec: 397.98\n",
      "INFO:tensorflow:loss = 0.7209022, step = 2600 (0.236 sec)\n",
      "INFO:tensorflow:global_step/sec: 401.058\n",
      "INFO:tensorflow:loss = 0.7126006, step = 2700 (0.265 sec)\n",
      "INFO:tensorflow:global_step/sec: 398.139\n",
      "INFO:tensorflow:loss = 0.69704163, step = 2800 (0.251 sec)\n",
      "INFO:tensorflow:global_step/sec: 426.356\n",
      "INFO:tensorflow:loss = 0.6955979, step = 2900 (0.219 sec)\n",
      "INFO:tensorflow:global_step/sec: 374.384\n",
      "INFO:tensorflow:loss = 0.6807121, step = 3000 (0.269 sec)\n",
      "INFO:tensorflow:global_step/sec: 450.912\n",
      "INFO:tensorflow:loss = 0.6714316, step = 3100 (0.220 sec)\n",
      "INFO:tensorflow:global_step/sec: 407.554\n",
      "INFO:tensorflow:loss = 0.66888845, step = 3200 (0.245 sec)\n",
      "INFO:tensorflow:global_step/sec: 427.816\n",
      "INFO:tensorflow:loss = 0.6595777, step = 3300 (0.234 sec)\n",
      "INFO:tensorflow:global_step/sec: 401.279\n",
      "INFO:tensorflow:loss = 0.65675414, step = 3400 (0.249 sec)\n",
      "INFO:tensorflow:global_step/sec: 399.133\n",
      "INFO:tensorflow:loss = 0.64749634, step = 3500 (0.251 sec)\n",
      "INFO:tensorflow:global_step/sec: 423.948\n",
      "INFO:tensorflow:loss = 0.6404375, step = 3600 (0.236 sec)\n",
      "INFO:tensorflow:global_step/sec: 425.674\n",
      "INFO:tensorflow:loss = 0.63565075, step = 3700 (0.251 sec)\n",
      "INFO:tensorflow:global_step/sec: 401.905\n",
      "INFO:tensorflow:loss = 0.6229267, step = 3800 (0.233 sec)\n",
      "INFO:tensorflow:global_step/sec: 425.97\n",
      "INFO:tensorflow:loss = 0.6142348, step = 3900 (0.235 sec)\n",
      "INFO:tensorflow:global_step/sec: 428.157\n",
      "INFO:tensorflow:loss = 0.61310303, step = 4000 (0.249 sec)\n"
     ]
    },
    {
     "name": "stdout",
     "output_type": "stream",
     "text": [
      "INFO:tensorflow:global_step/sec: 376.477\n",
      "INFO:tensorflow:loss = 0.60147345, step = 4100 (0.250 sec)\n",
      "INFO:tensorflow:global_step/sec: 399.071\n",
      "INFO:tensorflow:loss = 0.5980456, step = 4200 (0.266 sec)\n",
      "INFO:tensorflow:global_step/sec: 398.618\n",
      "INFO:tensorflow:loss = 0.59366214, step = 4300 (0.235 sec)\n",
      "INFO:tensorflow:global_step/sec: 424.627\n",
      "INFO:tensorflow:loss = 0.5894389, step = 4400 (0.236 sec)\n",
      "INFO:tensorflow:global_step/sec: 428.749\n",
      "INFO:tensorflow:loss = 0.5849334, step = 4500 (0.233 sec)\n",
      "INFO:tensorflow:global_step/sec: 400.838\n",
      "INFO:tensorflow:loss = 0.57454216, step = 4600 (0.249 sec)\n",
      "INFO:tensorflow:global_step/sec: 424.46\n",
      "INFO:tensorflow:loss = 0.5729098, step = 4700 (0.236 sec)\n",
      "INFO:tensorflow:global_step/sec: 428.203\n",
      "INFO:tensorflow:loss = 0.5597387, step = 4800 (0.234 sec)\n",
      "INFO:tensorflow:global_step/sec: 426.725\n",
      "INFO:tensorflow:loss = 0.5609857, step = 4900 (0.234 sec)\n",
      "INFO:tensorflow:Calling checkpoint listeners before saving checkpoint 5000...\n",
      "INFO:tensorflow:Saving checkpoints for 5000 into C:\\Users\\josep\\AppData\\Local\\Temp\\tmpp5wjsd2b\\model.ckpt.\n",
      "INFO:tensorflow:Calling checkpoint listeners after saving checkpoint 5000...\n",
      "INFO:tensorflow:Loss for final step: 0.5513638.\n"
     ]
    },
    {
     "data": {
      "text/plain": [
       "<tensorflow_estimator.python.estimator.canned.dnn.DNNClassifierV2 at 0x1f968f8d250>"
      ]
     },
     "execution_count": 11,
     "metadata": {},
     "output_type": "execute_result"
    }
   ],
   "source": [
    "classifier.train(input_fn= lambda: input_fn(train, train_y, training = True), steps = 5000)"
   ]
  },
  {
   "cell_type": "code",
   "execution_count": 12,
   "id": "c0b168bd",
   "metadata": {},
   "outputs": [
    {
     "name": "stdout",
     "output_type": "stream",
     "text": [
      "INFO:tensorflow:Calling model_fn.\n",
      "INFO:tensorflow:Done calling model_fn.\n",
      "INFO:tensorflow:Starting evaluation at 2023-07-21T19:24:07\n",
      "WARNING:tensorflow:From C:\\Users\\josep\\anaconda3\\lib\\site-packages\\tensorflow\\python\\training\\evaluation.py:260: FinalOpsHook.__init__ (from tensorflow.python.training.basic_session_run_hooks) is deprecated and will be removed in a future version.\n",
      "Instructions for updating:\n",
      "Use tf.keras instead.\n",
      "INFO:tensorflow:Graph was finalized.\n",
      "INFO:tensorflow:Restoring parameters from C:\\Users\\josep\\AppData\\Local\\Temp\\tmpp5wjsd2b\\model.ckpt-5000\n",
      "INFO:tensorflow:Running local_init_op.\n",
      "INFO:tensorflow:Done running local_init_op.\n",
      "INFO:tensorflow:Inference Time : 3.73092s\n",
      "INFO:tensorflow:Finished evaluation at 2023-07-21-19:24:11\n",
      "INFO:tensorflow:Saving dict for global step 5000: accuracy = 0.53333336, average_loss = 0.6368835, global_step = 5000, loss = 0.6368835\n",
      "INFO:tensorflow:Saving 'checkpoint_path' summary for global step 5000: C:\\Users\\josep\\AppData\\Local\\Temp\\tmpp5wjsd2b\\model.ckpt-5000\n",
      "\n",
      "Test set accuracy:  0.533\n",
      "\n"
     ]
    }
   ],
   "source": [
    "#Evaluation of the model\n",
    " #now we check how well the model is trained\n",
    "eval_result = classifier.evaluate(input_fn= lambda: input_fn(test, test_y, training = False))\n",
    "\n",
    "print('\\nTest set accuracy: {accuracy: 0.3f}\\n'.format(**eval_result))\n",
    "\n",
    "#notice this time we never specified the number of steps this is becouse during evaluation the model will only look at the testing\n",
    "#  data one at a time.\n",
    "\n",
    "# we get the test set accuracy"
   ]
  },
  {
   "cell_type": "markdown",
   "id": "cbea1446",
   "metadata": {},
   "source": [
    "## PREDICTIONS\n",
    "Now that we have traiend the model and evaluated it. its time to make predictions now"
   ]
  },
  {
   "cell_type": "code",
   "execution_count": 13,
   "id": "2d3479c9",
   "metadata": {},
   "outputs": [
    {
     "name": "stdout",
     "output_type": "stream",
     "text": [
      "Please Type numerical values as Prompted.\n",
      "SepalLength: 2.5\n",
      "SepalWidth: 2.5\n",
      "PetalLength: 6.3\n",
      "PetalWidth: 2.3\n",
      "INFO:tensorflow:Calling model_fn.\n",
      "WARNING:tensorflow:From C:\\Users\\josep\\anaconda3\\lib\\site-packages\\tensorflow_estimator\\python\\estimator\\head\\base_head.py:786: ClassificationOutput.__init__ (from tensorflow.python.saved_model.model_utils.export_output) is deprecated and will be removed in a future version.\n",
      "Instructions for updating:\n",
      "Use tf.keras instead.\n",
      "WARNING:tensorflow:From C:\\Users\\josep\\anaconda3\\lib\\site-packages\\tensorflow_estimator\\python\\estimator\\head\\multi_class_head.py:455: PredictOutput.__init__ (from tensorflow.python.saved_model.model_utils.export_output) is deprecated and will be removed in a future version.\n",
      "Instructions for updating:\n",
      "Use tf.keras instead.\n",
      "INFO:tensorflow:Done calling model_fn.\n",
      "INFO:tensorflow:Graph was finalized.\n",
      "INFO:tensorflow:Restoring parameters from C:\\Users\\josep\\AppData\\Local\\Temp\\tmpp5wjsd2b\\model.ckpt-5000\n",
      "INFO:tensorflow:Running local_init_op.\n",
      "INFO:tensorflow:Done running local_init_op.\n",
      "prediction is 'Versicolor' (40.2%)\n"
     ]
    }
   ],
   "source": [
    "def input_fn(features, batch_size = 256):\n",
    "    #convert the inputs to a Dataset without labels\n",
    "    return tf.data.Dataset.from_tensor_slices(dict(features)).batch(batch_size)\n",
    "features = ['SepalLength','SepalWidth','PetalLength','PetalWidth']\n",
    "predict={}\n",
    "\n",
    "print('Please Type numerical values as Prompted.')\n",
    "for feature in features:\n",
    "    valid = True\n",
    "    while valid:\n",
    "        val = input(feature + \": \")\n",
    "        if not val.isdigit(): valid = False\n",
    "    predict[feature] = [float(val)]\n",
    "predictions = classifier.predict(input_fn = lambda: input_fn(predict))\n",
    "for pred_dict in predictions:\n",
    "    class_id = pred_dict['class_ids'][0]\n",
    "    probability = pred_dict['probabilities'][class_id]\n",
    "    \n",
    "    print(\"prediction is '{}' ({:.1f}%)\".format(species[class_id], 100 * probability))"
   ]
  },
  {
   "cell_type": "code",
   "execution_count": 14,
   "id": "1c5a7a0b",
   "metadata": {},
   "outputs": [],
   "source": [
    "#here are some example input and expected classes you can try in the above \n",
    "expected = ['Setosa','Versicolor','Virginica']\n",
    "predict_x ={\n",
    "    'SepalLength' : [5.1,5.9,6.9],\n",
    "    'SepalWidth':[3.3,3.0,3.1],\n",
    "    'PetalLength': [1.7,4.2,5.4],\n",
    "    'PetalWidth':[0.5,1.5,2.1]\n",
    "}\n",
    "\n",
    "#thats all for classification"
   ]
  },
  {
   "cell_type": "markdown",
   "id": "105e8038",
   "metadata": {},
   "source": [
    "the model gives a prediction of more than 90% meaning its well tought and perfect"
   ]
  },
  {
   "cell_type": "code",
   "execution_count": 15,
   "id": "40348fb0",
   "metadata": {},
   "outputs": [
    {
     "name": "stdout",
     "output_type": "stream",
     "text": [
      "Please Type numerical values as Prompted.\n",
      "SepalLength: 2.3\n",
      "SepalWidth: 2.5\n",
      "PetalLength: 2.1\n",
      "PetalWidth: 2.2\n",
      "INFO:tensorflow:Calling model_fn.\n",
      "INFO:tensorflow:Done calling model_fn.\n",
      "INFO:tensorflow:Graph was finalized.\n",
      "INFO:tensorflow:Restoring parameters from C:\\Users\\josep\\AppData\\Local\\Temp\\tmpp5wjsd2b\\model.ckpt-5000\n",
      "INFO:tensorflow:Running local_init_op.\n",
      "INFO:tensorflow:Done running local_init_op.\n",
      "{'logits': array([-0.1981673 ,  0.62320554,  0.6067057 ], dtype=float32), 'probabilities': array([0.18148717, 0.4126327 , 0.40588018], dtype=float32), 'class_ids': array([1], dtype=int64), 'classes': array([b'1'], dtype=object), 'all_class_ids': array([0, 1, 2]), 'all_classes': array([b'0', b'1', b'2'], dtype=object)}\n",
      "prediction is 'Versicolor' (41.3%)\n"
     ]
    }
   ],
   "source": [
    "def input_fn(features, batch_size = 256):\n",
    "    #convert the inputs to a Dataset without labels\n",
    "    return tf.data.Dataset.from_tensor_slices(dict(features)).batch(batch_size)\n",
    "features = ['SepalLength','SepalWidth','PetalLength','PetalWidth']\n",
    "predict={}\n",
    "\n",
    "print('Please Type numerical values as Prompted.')\n",
    "for feature in features:\n",
    "    valid = True\n",
    "    while valid:\n",
    "        val = input(feature + \": \")\n",
    "        if not val.isdigit(): valid = False\n",
    "    predict[feature] = [float(val)]\n",
    "predictions = classifier.predict(input_fn = lambda: input_fn(predict))\n",
    "for pred_dict in predictions:\n",
    "    print(pred_dict) # this is to print the dictonary to see whats going on\n",
    "    class_id = pred_dict['class_ids'][0]\n",
    "    probability = pred_dict['probabilities'][class_id]\n",
    "    \n",
    "    print(\"prediction is '{}' ({:.1f}%)\".format(species[class_id], 100 * probability))"
   ]
  },
  {
   "cell_type": "code",
   "execution_count": null,
   "id": "56549d46",
   "metadata": {},
   "outputs": [],
   "source": []
  }
 ],
 "metadata": {
  "kernelspec": {
   "display_name": "Python 3 (ipykernel)",
   "language": "python",
   "name": "python3"
  },
  "language_info": {
   "codemirror_mode": {
    "name": "ipython",
    "version": 3
   },
   "file_extension": ".py",
   "mimetype": "text/x-python",
   "name": "python",
   "nbconvert_exporter": "python",
   "pygments_lexer": "ipython3",
   "version": "3.9.13"
  }
 },
 "nbformat": 4,
 "nbformat_minor": 5
}
