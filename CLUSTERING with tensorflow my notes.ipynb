{
 "cells": [
  {
   "cell_type": "markdown",
   "id": "974096eb",
   "metadata": {},
   "source": [
    "# Clustering\n",
    "##### clustering only works on a specific set of problems example is it only works when you have input information, and you dont have labels, or output information/ features\n",
    "becouse clustering is difficult without the support of KMeans in tensor flow we have to write the algorithm from scratch.\n"
   ]
  },
  {
   "cell_type": "markdown",
   "id": "a4877938",
   "metadata": {},
   "source": [
    "### The Basic Algorithm for K-Means\n",
    ". step 1 : Randomly pick K points to place K centroids.                                                                         \n",
    ". Step 2: Assign all of the data points to the centroids by distance. the closest centroid to a point is the one it is assigned to.                                                                                                                                                           \n",
    ". step 3: Average all of the points belonging to each centroid to find the middle of those clusters(center of mass).place the corresponding centroids into that position.                                                                                     \n",
    ". step 4: Reassign every point once again to the closest centroid.                                                             \n",
    ". step 5: Reapear steps 3-4 untill no point changes  which centroid it belongs to.                                              "
   ]
  },
  {
   "cell_type": "code",
   "execution_count": null,
   "id": "2a471864",
   "metadata": {},
   "outputs": [],
   "source": []
  }
 ],
 "metadata": {
  "kernelspec": {
   "display_name": "Python 3 (ipykernel)",
   "language": "python",
   "name": "python3"
  },
  "language_info": {
   "codemirror_mode": {
    "name": "ipython",
    "version": 3
   },
   "file_extension": ".py",
   "mimetype": "text/x-python",
   "name": "python",
   "nbconvert_exporter": "python",
   "pygments_lexer": "ipython3",
   "version": "3.9.13"
  }
 },
 "nbformat": 4,
 "nbformat_minor": 5
}
