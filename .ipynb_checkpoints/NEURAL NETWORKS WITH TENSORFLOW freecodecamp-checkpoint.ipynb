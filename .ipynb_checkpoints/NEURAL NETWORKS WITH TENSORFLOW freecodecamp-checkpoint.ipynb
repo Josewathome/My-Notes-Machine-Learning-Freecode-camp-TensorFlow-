{
 "cells": [
  {
   "cell_type": "markdown",
   "id": "e77eee4f",
   "metadata": {},
   "source": [
    "# NEURAL NETWORKS WITH TENSORFLOW"
   ]
  },
  {
   "cell_type": "markdown",
   "id": "7dd5e8e4",
   "metadata": {},
   "source": [
    "densly connected layer, each input is connected to a hidden nodes and to other hidden nodes tha are connected to more input nodes.                                                                                                                          \n",
    "biases = it only exist to the previous layer to the layer that it affects.(it is a constant that is used to connect to the hidden layer and it has no input)\n",
    "                                                                                                                                                                                                                                                                                                                                                                                                                                                                                                                                                                                                                                                 "
   ]
  },
  {
   "cell_type": "markdown",
   "id": "2ecc2329",
   "metadata": {},
   "source": [
    "### Activation function (F)"
   ]
  },
  {
   "cell_type": "markdown",
   "id": "f355c60a",
   "metadata": {},
   "source": [
    "### this are are besically graphs that we use their equetions to calulate the the activation function (F)\n",
    "                                                                                                                                . Relu (Rectifide Linear Unit) = this takes the value in the x-axis that is negative(-1,2)  and converts the y-axis to zero(-1,0) and if the x-value is positive then the y value is the same value as the x- value.(also you can say that youn take any values les than 0 and make the y value == 0 and any value grater than 0(or positive) the y value will be the same value it becomes a straight line (y=x)\n",
    "#### it basically removes any negative number\n",
    "                                                                                                                               . Tanh (Hyperbolic Tangent) = it basically squishes our values between -1 and 1. it take the y- values and the more positive thery are the closer they are to 1 and the more negative they are the more closer they get to -1.\n",
    "                                                                                                                                                                                                                                                             . Sigmoid = this basically squishes the numbers between 0 and 1. what it does is it take any numbers that thier x- value is negative to nake the y- value closer to 0, and any number that has x- value is positive its y- value closer to 1 and the zero value in ex is equal to o.5 in the y- value."
   ]
  },
  {
   "cell_type": "markdown",
   "id": "45cc8d35",
   "metadata": {},
   "source": [
    " ## how we use the activation values(F)\n",
    "    "
   ]
  },
  {
   "cell_type": "markdown",
   "id": "b9779085",
   "metadata": {},
   "source": [
    "we multipy the nodes with the activation value.\n",
    "by doing this we can decide if we want our final value to be closer to one or zero or negative one by applying the activation values(F)"
   ]
  },
  {
   "cell_type": "markdown",
   "id": "6d746464",
   "metadata": {},
   "source": [
    "# HOW TO TRAIN NEURAL NETWORKS"
   ]
  },
  {
   "cell_type": "markdown",
   "id": "f050d4de",
   "metadata": {},
   "source": [
    "#### Loss  function = this basically tells us how far we are from our chosen value example we choose the values 0 and 1 by using the Sigmoid function. thefore the loss function = value gotten as output - the chosen value(either 1 or 0)\n",
    "                                                                                                                                Example: we get our output function as 0.7 our loss function will be 1- 0.7 and 0- 0.7"
   ]
  },
  {
   "cell_type": "markdown",
   "id": "360f01ea",
   "metadata": {},
   "source": [
    "some other common loss functions are.                                                                                           ...... Mean Squared Error                                                                                                        .....Mean Absolute Error                                                                                                        ..... Hinge Loss                                                                                                               \n",
    "#### You want yor loss function to be as low as possible."
   ]
  },
  {
   "cell_type": "markdown",
   "id": "4b502014",
   "metadata": {},
   "source": [
    "## Gradient Descent"
   ]
  },
  {
   "cell_type": "markdown",
   "id": "adc01b0c",
   "metadata": {},
   "source": [
    "this is a fuction/ algorithim that helps us test if our loss fuction is desending to the global minimum.then we use a back griedient to update our neural network.\n"
   ]
  },
  {
   "cell_type": "markdown",
   "id": "7c72a968",
   "metadata": {},
   "source": [
    "### when training we check the loss value and make prediction and compare predictions."
   ]
  },
  {
   "cell_type": "markdown",
   "id": "1a6d8561",
   "metadata": {},
   "source": [
    "# NEURAL NETWORK OPTIMIZER"
   ]
  },
  {
   "cell_type": "markdown",
   "id": "c52d05f6",
   "metadata": {},
   "source": [
    "this does the backpropagation algorithim above examples are: ..... Gradient Descent......Stochastic Gridient descent......Min-Batch Grident Desent...... Momentum......Nesterov Accelerated Gradient"
   ]
  },
  {
   "cell_type": "markdown",
   "id": "b4a9bbd5",
   "metadata": {},
   "source": [
    "# BUILDING A NEURAL NETWORK"
   ]
  },
  {
   "cell_type": "code",
   "execution_count": 1,
   "id": "25e9535f",
   "metadata": {},
   "outputs": [],
   "source": [
    "# IMPORTS\n",
    "import  tensorflow as tf\n",
    "from tensorflow import keras\n",
    " # the helper libraries \n",
    "import numpy as np\n",
    "import matplotlib.pyplot as plt"
   ]
  },
  {
   "cell_type": "code",
   "execution_count": 2,
   "id": "c611ca8d",
   "metadata": {},
   "outputs": [],
   "source": [
    "#Dataset\n",
    "# for this we use the MNIST fasion dataset. the data set is included in Keras,\n",
    "# the data set has 60,000 images for training and 10,000 images for validation/ testing\n",
    "\n",
    "fashion_mnist = keras.datasets.fashion_mnist #Load dataset\n",
    "(train_images, train_labels),(test_images, test_labels) = fashion_mnist.load_data() # split into testing and training data"
   ]
  },
  {
   "cell_type": "code",
   "execution_count": 3,
   "id": "ae70ec83",
   "metadata": {},
   "outputs": [
    {
     "name": "stdout",
     "output_type": "stream",
     "text": [
      "<class 'numpy.ndarray'>\n"
     ]
    },
    {
     "data": {
      "text/plain": [
       "(60000, 28, 28)"
      ]
     },
     "execution_count": 3,
     "metadata": {},
     "output_type": "execute_result"
    }
   ],
   "source": [
    "#lets look at the data to see what we are working with.\n",
    "print(type(train_images)) # to get to know the type of data that we have.\n",
    "train_images.shape\n",
    "#so we got 60000 images that are made up of 28 * 28 pixels( 784 in total)"
   ]
  },
  {
   "cell_type": "code",
   "execution_count": 4,
   "id": "2e6a7af2",
   "metadata": {},
   "outputs": [
    {
     "data": {
      "text/plain": [
       "(10000, 28, 28)"
      ]
     },
     "execution_count": 4,
     "metadata": {},
     "output_type": "execute_result"
    }
   ],
   "source": [
    "test_images.shape"
   ]
  },
  {
   "cell_type": "code",
   "execution_count": 5,
   "id": "c236f5c8",
   "metadata": {
    "scrolled": false
   },
   "outputs": [
    {
     "data": {
      "text/plain": [
       "194"
      ]
     },
     "execution_count": 5,
     "metadata": {},
     "output_type": "execute_result"
    }
   ],
   "source": [
    " train_images[0,23,23]# lets look at one pixel\n",
    "# thismean that our pixel values are between 0 and 255, 0 being black and 255 being white. this means we have a grayscale...\n",
    "# images as there are no colors"
   ]
  },
  {
   "cell_type": "code",
   "execution_count": 6,
   "id": "f41082a0",
   "metadata": {},
   "outputs": [
    {
     "data": {
      "text/plain": [
       "array([9, 0, 0, 3, 0, 2, 7, 2, 5, 5], dtype=uint8)"
      ]
     },
     "execution_count": 6,
     "metadata": {},
     "output_type": "execute_result"
    }
   ],
   "source": [
    "train_labels[:10] #first trainnig lables."
   ]
  },
  {
   "cell_type": "code",
   "execution_count": 7,
   "id": "ca97ea78",
   "metadata": {},
   "outputs": [],
   "source": [
    "# oru labels are integers ranging from 0-9. each integer represents a specific article of clothing. we'll create an array of lable names to indicate which is which.\n",
    "class_names = ['T-shirt/top','Trouser','Pullover','Dress','Coat','Sandal','Shirt','Sneaker','Bag','Ankle boot']"
   ]
  },
  {
   "cell_type": "code",
   "execution_count": 8,
   "id": "63ee48ba",
   "metadata": {},
   "outputs": [
    {
     "data": {
      "image/png": "[encoded data removed]",
      "text/plain": [
       "<Figure size 640x480 with 2 Axes>"
      ]
     },
     "metadata": {},
     "output_type": "display_data"
    }
   ],
   "source": [
    "#lets look now at the images\n",
    "plt.figure()\n",
    "plt.imshow(train_images[100])\n",
    "plt.colorbar()\n",
    "plt.grid(False)\n",
    "plt.show()"
   ]
  },
  {
   "cell_type": "markdown",
   "id": "18e8827f",
   "metadata": {},
   "source": [
    "##  DATA PREPROCESSING"
   ]
  },
  {
   "cell_type": "markdown",
   "id": "0ad2344e",
   "metadata": {},
   "source": [
    "THE LASTR STEP IS TO PROCESS THE DATA. this simplymeanstransforming the data b4 feeding it to the model. in this case we will simply scale our grayscale pixelvalues(0-225) to be between 0 and 1.we can do this by dividing each training and teastiong sets by 255.0. we do this becouse smaller values will make it easier for the model to prosess our values."
   ]
  },
  {
   "cell_type": "code",
   "execution_count": 9,
   "id": "0ed51f50",
   "metadata": {},
   "outputs": [],
   "source": [
    "train_images =  train_images / 255.0\n",
    "test_images =  test_images / 255.0\n"
   ]
  },
  {
   "cell_type": "markdown",
   "id": "0b9e79c3",
   "metadata": {},
   "source": [
    "# BUILDING THE MODEL"
   ]
  },
  {
   "cell_type": "markdown",
   "id": "65cc6c63",
   "metadata": {},
   "source": [
    "NOW TO BUILD THE MODEL WE are going to use KERAS sequential Model with three different layers. this model represents a feed- forward Neural Network(one that passes values from left to right)."
   ]
  },
  {
   "cell_type": "code",
   "execution_count": 10,
   "id": "12f09608",
   "metadata": {},
   "outputs": [],
   "source": [
    "model = keras.Sequential([\n",
    "    keras.layers.Flatten(input_shape=(28,28)), # Input layer (1)\n",
    "    keras.layers.Dense(128, activation ='relu'), # Hidden layer(2)\n",
    "    keras.layers.Dense(10, activation='softmax') # Output layer(3)\n",
    "])"
   ]
  },
  {
   "cell_type": "markdown",
   "id": "067981d3",
   "metadata": {},
   "source": [
    "###### Layer 1:\n",
    "this  input will have 784 neurons, we use the flatten layer with input shape (28,28) this is to denote that our inut should come in that shape. The flatten means that our layer will reshape(28,28) array into a vector of 784 neurons so that each pixel will be assosiated with one neuron."
   ]
  },
  {
   "cell_type": "markdown",
   "id": "d30bd0ca",
   "metadata": {},
   "source": [
    "###### Layer 2:\n",
    "this is our first and only hidden layer. the dense denotes that this layer will be fully connected and each neuron from the previous layer to each neuron of this layer. it has 128 neurons and uses the rectify linear unit activation function."
   ]
  },
  {
   "cell_type": "markdown",
   "id": "2bc06f63",
   "metadata": {},
   "source": [
    "##### Layer 3:\n",
    "this is output layer and is also a dense layer.It has 10 Neurons that we will look at to determine our models output. each neuron represents the probability of a given image being one of the 10 differnt classes . the acivation function softmax is used on this layer to calculate a probability distribution for each class. this means the value of any neuron in this layer will be between 0 and 1 where 1 reperesents a high probaplity of the image being that class."
   ]
  },
  {
   "cell_type": "markdown",
   "id": "23fdaea1",
   "metadata": {},
   "source": [
    "### Complie the model\n",
    "the last step of building the model is defineing the loss function, optimizer and metrics we would like to track."
   ]
  },
  {
   "cell_type": "code",
   "execution_count": 11,
   "id": "fb69e0bb",
   "metadata": {},
   "outputs": [],
   "source": [
    "#Piking the activation function(gradient desend)\n",
    "model.compile(optimizer = 'adam',\n",
    "             loss = 'sparse_categorical_crossentropy',\n",
    "             metrics =['accuracy'])\n"
   ]
  },
  {
   "cell_type": "markdown",
   "id": "dc784a5c",
   "metadata": {},
   "source": [
    "## Training The Model"
   ]
  },
  {
   "cell_type": "code",
   "execution_count": 15,
   "id": "44b85555",
   "metadata": {},
   "outputs": [
    {
     "name": "stdout",
     "output_type": "stream",
     "text": [
      "Epoch 1/8\n",
      "1875/1875 [==============================] - 12s 5ms/step - loss: 0.2334 - accuracy: 0.9125\n",
      "Epoch 2/8\n",
      "1875/1875 [==============================] - 10s 5ms/step - loss: 0.2262 - accuracy: 0.9157\n",
      "Epoch 3/8\n",
      "1875/1875 [==============================] - 10s 5ms/step - loss: 0.2189 - accuracy: 0.9184\n",
      "Epoch 4/8\n",
      "1875/1875 [==============================] - 10s 5ms/step - loss: 0.2139 - accuracy: 0.9198\n",
      "Epoch 5/8\n",
      "1875/1875 [==============================] - 10s 5ms/step - loss: 0.2088 - accuracy: 0.9224\n",
      "Epoch 6/8\n",
      "1875/1875 [==============================] - 10s 5ms/step - loss: 0.2010 - accuracy: 0.9240\n",
      "Epoch 7/8\n",
      "1875/1875 [==============================] - 10s 5ms/step - loss: 0.1974 - accuracy: 0.9262\n",
      "Epoch 8/8\n",
      "1875/1875 [==============================] - 10s 5ms/step - loss: 0.1900 - accuracy: 0.9291\n"
     ]
    },
    {
     "data": {
      "text/plain": [
       "<keras.src.callbacks.History at 0x284167acbe0>"
      ]
     },
     "execution_count": 15,
     "metadata": {},
     "output_type": "execute_result"
    }
   ],
   "source": [
    "model.fit(train_images,train_labels,epochs=8) # we pass the data, labels and epochs and watch the magic!"
   ]
  },
  {
   "cell_type": "markdown",
   "id": "f83a2050",
   "metadata": {},
   "source": [
    "#### Evaluating the model"
   ]
  },
  {
   "cell_type": "markdown",
   "id": "349ca61a",
   "metadata": {},
   "source": [
    "by evaluating and teasting the model we can use a built in method from keras.                                                   \n",
    "The Verbose argument is defined from keras as \" verbuse 0 or 1. verbosity mode. 0 = silent, 1= progress bar."
   ]
  },
  {
   "cell_type": "code",
   "execution_count": 16,
   "id": "a5fabf7b",
   "metadata": {},
   "outputs": [
    {
     "name": "stdout",
     "output_type": "stream",
     "text": [
      "313/313 [==============================] - 1s 3ms/step - loss: 0.3368 - accuracy: 0.8858\n",
      "Test Accuracy:  0.8858000040054321\n"
     ]
    }
   ],
   "source": [
    "test_loss, test_acc = model.evaluate(test_images, test_labels, verbose=1)\n",
    "print('Test Accuracy: ', test_acc)"
   ]
  },
  {
   "cell_type": "markdown",
   "id": "5b997b7e",
   "metadata": {},
   "source": [
    "### Prediction of model"
   ]
  },
  {
   "cell_type": "code",
   "execution_count": 17,
   "id": "4475aec5",
   "metadata": {},
   "outputs": [
    {
     "name": "stdout",
     "output_type": "stream",
     "text": [
      "313/313 [==============================] - 73s 3ms/step\n"
     ]
    }
   ],
   "source": [
    "predictions = model.predict(test_images)"
   ]
  },
  {
   "cell_type": "code",
   "execution_count": 18,
   "id": "9dc693e9",
   "metadata": {},
   "outputs": [
    {
     "name": "stdout",
     "output_type": "stream",
     "text": [
      "Prediction:  [[2.6219267e-09 9.0734573e-12 1.9860710e-11 ... 4.0642871e-03\n",
      "  2.0744656e-10 9.9576229e-01]\n",
      " [3.3487184e-05 2.0153994e-13 9.9738199e-01 ... 1.6899134e-21\n",
      "  4.9197251e-09 3.0348718e-12]\n",
      " [3.3178169e-14 1.0000000e+00 6.9944229e-17 ... 4.5877344e-33\n",
      "  3.2468314e-14 5.2475290e-29]\n",
      " ...\n",
      " [7.6514276e-08 1.1890643e-13 2.5925193e-08 ... 3.9821562e-12\n",
      "  9.9999750e-01 3.9434774e-17]\n",
      " [7.0585649e-13 1.0000000e+00 1.9981995e-13 ... 3.1925573e-18\n",
      "  1.8479410e-09 2.8319297e-15]\n",
      " [3.4663881e-08 7.8965447e-13 1.3443158e-09 ... 1.1008435e-04\n",
      "  4.7510812e-06 3.7791906e-07]]\n"
     ]
    }
   ],
   "source": [
    "print('Prediction: ',predictions)"
   ]
  },
  {
   "cell_type": "code",
   "execution_count": 19,
   "id": "6ac82c5b",
   "metadata": {},
   "outputs": [
    {
     "data": {
      "text/plain": [
       "(10000, 28, 28)"
      ]
     },
     "execution_count": 19,
     "metadata": {},
     "output_type": "execute_result"
    }
   ],
   "source": [
    "test_images.shape"
   ]
  },
  {
   "cell_type": "code",
   "execution_count": 24,
   "id": "de1aa976",
   "metadata": {},
   "outputs": [
    {
     "name": "stdout",
     "output_type": "stream",
     "text": [
      "313/313 [==============================] - 1s 3ms/step\n",
      "Trouser\n"
     ]
    },
    {
     "data": {
      "image/png": "[encoded data removed]",
      "text/plain": [
       "<Figure size 640x480 with 2 Axes>"
      ]
     },
     "metadata": {},
     "output_type": "display_data"
    }
   ],
   "source": [
    "predictions = model.predict(test_images) #wanting tpo know the class of the first prediction\n",
    "print(class_names[np.argmax(predictions[2])])\n",
    "plt.figure()\n",
    "plt.imshow(train_images[2])\n",
    "plt.colorbar()\n",
    "plt.grid(False)\n",
    "plt.show()"
   ]
  },
  {
   "cell_type": "markdown",
   "id": "c4b787f6",
   "metadata": {},
   "source": [
    "## Verifying Predictions\n",
    "some predictions with simple visuals."
   ]
  },
  {
   "cell_type": "code",
   "execution_count": null,
   "id": "2ccc5b24",
   "metadata": {},
   "outputs": [],
   "source": [
    "# this code hat it does is it will promt you to give a number then it will give you the image and the prediction of the image.\n",
    "COLOR = 'white'\n",
    "plt.rcParams['text.color'] = COLOR\n",
    "plt.rcParams['axes.labelcolor'] = COLOR\n",
    "\n",
    "def predict(model, image, correct_label):\n",
    "    class_names = ['T-shirt/top','Trouser','Pullover','Dress','Coat','Sandal','Shirt','Sneaker','Bag','Ankle boot']\n",
    "    prediction = model.predict(np.array([image]))\n",
    "    predicted_class = class_names[np.argmax(prediction)]\n",
    "    \n",
    "    show_image(image, class_names[correct_label], predicted_class)\n",
    "  \n",
    "        \n",
    "    \n",
    "\n",
    "def show_image(img, label, guess):\n",
    "    plt.figure()\n",
    "    plt.imshow(img, cmap=plt.cm.binary)\n",
    "    plt.title('Expected: '+ label)\n",
    "    plt.xlabel('Guess: '+ guess)\n",
    "    plt.colorbar()\n",
    "    plt.grid(False)\n",
    "    plt.show()\n",
    "    \n",
    "def get_number():\n",
    "    while True:\n",
    "        num = input('Pick a number: ')\n",
    "        if num.isdigit():\n",
    "            num = int(num)\n",
    "            if 0 <= num <= 1000:\n",
    "                return int(num)\n",
    "            else:\n",
    "                print('Try again... ')\n",
    "                \n",
    "\n",
    "\n",
    "num = get_number()\n",
    "image =  test_images[num]\n",
    "label = test_labels[num]\n",
    "\n",
    "predict(model, image, label)\n"
   ]
  },
  {
   "cell_type": "markdown",
   "id": "66a769bc",
   "metadata": {},
   "source": [
    "## thats the intro to Neural Networks!"
   ]
  },
  {
   "cell_type": "code",
   "execution_count": null,
   "id": "079449e5",
   "metadata": {},
   "outputs": [],
   "source": []
  }
 ],
 "metadata": {
  "kernelspec": {
   "display_name": "Python 3 (ipykernel)",
   "language": "python",
   "name": "python3"
  },
  "language_info": {
   "codemirror_mode": {
    "name": "ipython",
    "version": 3
   },
   "file_extension": ".py",
   "mimetype": "text/x-python",
   "name": "python",
   "nbconvert_exporter": "python",
   "pygments_lexer": "ipython3",
   "version": "3.9.13"
  }
 },
 "nbformat": 4,
 "nbformat_minor": 5
}
