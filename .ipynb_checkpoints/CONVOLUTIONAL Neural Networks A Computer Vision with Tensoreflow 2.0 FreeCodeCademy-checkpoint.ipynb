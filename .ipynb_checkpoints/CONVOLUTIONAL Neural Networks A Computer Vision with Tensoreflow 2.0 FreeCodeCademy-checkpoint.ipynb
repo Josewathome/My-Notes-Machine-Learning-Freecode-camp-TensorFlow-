{
 "cells": [
  {
   "cell_type": "markdown",
   "id": "b37f1c6b",
   "metadata": {},
   "source": [
    "# Convolutional Neural Networks A "
   ]
  },
  {
   "cell_type": "markdown",
   "id": "b13a31f8",
   "metadata": {},
   "source": [
    "## DEEP COMPUTER VISION"
   ]
  },
  {
   "cell_type": "markdown",
   "id": "e8b1f6b9",
   "metadata": {},
   "source": [
    "in this guide we will learn how to perform image classification and object detection using deep computer vision with the convolutional neural networkd.                                                                                                 \n",
    " we will be to classify and detect images or specific objects from within the images. we will be using images data as our features and label for those images as our label or output.                                                                      \n",
    " the following concepts are important.                                                                                          \n",
    " . Image  data                                                                                                                 \n",
    " .Convolutional Layer                                                                                                           \n",
    " . Pooling Layer.                                                                                                               \n",
    " . CNN Architectures                                                                                                           \n",
    " #### the Major differnce in this type of neural networks are the layers that make them up."
   ]
  },
  {
   "cell_type": "markdown",
   "id": "81077c64",
   "metadata": {},
   "source": [
    "### Image Data\n",
    "we are going to deal with 3Dimensions  the tree dimensions are as follows:                                                         . Image height                                                                                                                 . Image Width                                                                                                                   . Color Channels -  the number of chanels represents the depth of an image and coorelates to the colors used. example an image with three channels is likely made up of rgb(red, gree, blue) pixels. So For Each Pixel we have three numeric Values in range 0 - 255 that defines its color. for an image of color depth 1 we would likely have a greyscale image with one value defining each pixel, again in the range of 0 - 255."
   ]
  },
  {
   "cell_type": "markdown",
   "id": "39303e7c",
   "metadata": {},
   "source": [
    "## Convolutional Neural Network\n",
    "note: i will use the tearm convnet and convolutional neural network interchangably"
   ]
  },
  {
   "cell_type": "markdown",
   "id": "fe55de18",
   "metadata": {},
   "source": [
    "this type of neural network is made up of many convolutional layers. they are different from the dense layers. the goal of this layers is to find pattens from the images that can be used to classify the image or parts of it.\n",
    "    The fundamental differnce betwen  a dense layer and a convolutional layer is that dense layers detect patterns globally while convolutional layer detects patterns locally. when we have a densly connected layer each node in that layer sees all the data from the previous layer. this means that this layer is looking at all of the information and is only capable of analyzing the data in a global capacity. \n",
    "        our convolutional layer however will not be densly connectd, this means it can detect local patterns using part of input data to that layer"
   ]
  },
  {
   "cell_type": "markdown",
   "id": "b2f03da6",
   "metadata": {},
   "source": [
    "#### a dense neural network learns patterns that are in one specific area of an image while convolutional Neural network learns  patterns in any area of the image regardeles when the image is fliped it will still locate the patterns."
   ]
  },
  {
   "cell_type": "markdown",
   "id": "f66e538b",
   "metadata": {},
   "source": [
    "# The Convolutional Layer"
   ]
  },
  {
   "cell_type": "markdown",
   "id": "8cf1654b",
   "metadata": {},
   "source": [
    " NOW creating our first Convent for this we will get famillier with CNN architectures."
   ]
  },
  {
   "cell_type": "markdown",
   "id": "652c7dcb",
   "metadata": {},
   "source": [
    "### Dataset"
   ]
  },
  {
   "cell_type": "markdown",
   "id": "32e13f2c",
   "metadata": {},
   "source": [
    "the problem here isn to clasify 10 different everdays objects. the data set we will use is built into tensorflow and called Cifar Image dataset it contains 60,000 32 x32 color images with 6000 images of each class.\n",
    "     this are the labels:\n",
    "         .Airplane, Automobile, Bird,Cat, Deer, Dog, Frog, Horse, Ship, Truck"
   ]
  },
  {
   "cell_type": "markdown",
   "id": "74f53ed2",
   "metadata": {},
   "source": [
    "## Loading the Data set"
   ]
  },
  {
   "cell_type": "code",
   "execution_count": 1,
   "id": "c4d75b9a",
   "metadata": {},
   "outputs": [],
   "source": [
    "import tensorflow as tf\n",
    "from tensorflow.keras import datasets, layers, models\n",
    "import matplotlib.pyplot as plt"
   ]
  },
  {
   "cell_type": "code",
   "execution_count": 2,
   "id": "97162133",
   "metadata": {},
   "outputs": [],
   "source": [
    "# Load AND SPLIT DATASET\n",
    "(train_images, train_labels), (test_images, test_labels) = datasets.cifar10.load_data()\n",
    "#Normalize pixel values to be bewteen 0 and 1\n",
    "train_images, test_images = train_images/ 255.0, test_images / 255.0\n",
    "\n",
    "class_names = ['airplane','automobile','bird','cat','deer','dog','frog','horse','ship','truck']"
   ]
  },
  {
   "cell_type": "code",
   "execution_count": 3,
   "id": "63d9b28c",
   "metadata": {},
   "outputs": [
    {
     "data": {
      "image/png": "[encoded data removed]",
      "text/plain": [
       "<Figure size 640x480 with 1 Axes>"
      ]
     },
     "metadata": {},
     "output_type": "display_data"
    }
   ],
   "source": [
    "# lets look at one of the image\n",
    "IMG_INDEX = 1 # change this to look at other images\n",
    "\n",
    "plt.imshow(train_images[IMG_INDEX], cmap=plt.cm.binary)\n",
    "plt.xlabel(class_names[train_labels[IMG_INDEX][0]])\n",
    "plt.show()"
   ]
  },
  {
   "cell_type": "markdown",
   "id": "16351289",
   "metadata": {},
   "source": [
    "## CNN Architecture\n",
    "this is a stack of Conv2D and MaxPooling2D layers followed by a dense connected layers.\n"
   ]
  },
  {
   "cell_type": "markdown",
   "id": "8774483d",
   "metadata": {},
   "source": [
    "the Idea is to stack convolutional and maxPooling layers to extract the features from the images. this features are flattend and fed to a densly connected layers that determine the class of an image based on the presence of features.                \n",
    "### Now lets start building the Convolutional Base"
   ]
  },
  {
   "cell_type": "code",
   "execution_count": 4,
   "id": "d8f7e872",
   "metadata": {},
   "outputs": [],
   "source": [
    "model= models.Sequential()\n",
    "model.add(layers.Conv2D(32,(3,3), activation='relu', input_shape=(32,32,3)))\n",
    "model.add(layers.MaxPooling2D((2,2)))\n",
    "model.add(layers.Conv2D(64,(3,3),activation='relu'))\n",
    "model.add(layers.MaxPooling2D((2,2)))\n",
    "model.add(layers.Conv2D(64, (3,3),activation= 'relu'))"
   ]
  },
  {
   "cell_type": "markdown",
   "id": "90c1047f",
   "metadata": {},
   "source": [
    "### Layer 1\n",
    "THIS input will be 32, 32, 3 and we will process 32 filter size 3x3 over our input data. we will apply the activation function relu to the output of each convolution operation."
   ]
  },
  {
   "cell_type": "markdown",
   "id": "57397d05",
   "metadata": {},
   "source": [
    "### Layer 2\n",
    "this will perform the max pooling operation using 2 x 2 samples and stride of 2"
   ]
  },
  {
   "cell_type": "markdown",
   "id": "e8a4e7ed",
   "metadata": {},
   "source": [
    "### Other Layers\n",
    "The next set of layers do very similar things but take as input the feature map from the previous layer. they also increase the frequency of filters from 32 to 64. \n",
    "        WE Can do this as our data shrinks in spacial dimensions as it passed through the layers, meaning we can afford(computationally) to add more depth."
   ]
  },
  {
   "cell_type": "code",
   "execution_count": 5,
   "id": "fa5e31aa",
   "metadata": {
    "scrolled": true
   },
   "outputs": [
    {
     "name": "stdout",
     "output_type": "stream",
     "text": [
      "Model: \"sequential\"\n",
      "_________________________________________________________________\n",
      " Layer (type)                Output Shape              Param #   \n",
      "=================================================================\n",
      " conv2d (Conv2D)             (None, 30, 30, 32)        896       \n",
      "                                                                 \n",
      " max_pooling2d (MaxPooling2  (None, 15, 15, 32)        0         \n",
      " D)                                                              \n",
      "                                                                 \n",
      " conv2d_1 (Conv2D)           (None, 13, 13, 64)        18496     \n",
      "                                                                 \n",
      " max_pooling2d_1 (MaxPoolin  (None, 6, 6, 64)          0         \n",
      " g2D)                                                            \n",
      "                                                                 \n",
      " conv2d_2 (Conv2D)           (None, 4, 4, 64)          36928     \n",
      "                                                                 \n",
      "=================================================================\n",
      "Total params: 56320 (220.00 KB)\n",
      "Trainable params: 56320 (220.00 KB)\n",
      "Non-trainable params: 0 (0.00 Byte)\n",
      "_________________________________________________________________\n"
     ]
    }
   ],
   "source": [
    "# model summary\n",
    "model.summary() # lets have a look at our model so far"
   ]
  },
  {
   "cell_type": "markdown",
   "id": "9aeebbb0",
   "metadata": {},
   "source": [
    "## Adding Dense Layers"
   ]
  },
  {
   "cell_type": "markdown",
   "id": "37d7bda9",
   "metadata": {},
   "source": [
    "now we need to take these extracted features and add a way to classify them. "
   ]
  },
  {
   "cell_type": "code",
   "execution_count": 6,
   "id": "708648d2",
   "metadata": {},
   "outputs": [],
   "source": [
    "model.add(layers.Flatten())\n",
    "model.add(layers.Dense(64,activation = 'relu'))\n",
    "model.add(layers.Dense(10))"
   ]
  },
  {
   "cell_type": "code",
   "execution_count": 7,
   "id": "27e050e6",
   "metadata": {
    "scrolled": true
   },
   "outputs": [
    {
     "name": "stdout",
     "output_type": "stream",
     "text": [
      "Model: \"sequential\"\n",
      "_________________________________________________________________\n",
      " Layer (type)                Output Shape              Param #   \n",
      "=================================================================\n",
      " conv2d (Conv2D)             (None, 30, 30, 32)        896       \n",
      "                                                                 \n",
      " max_pooling2d (MaxPooling2  (None, 15, 15, 32)        0         \n",
      " D)                                                              \n",
      "                                                                 \n",
      " conv2d_1 (Conv2D)           (None, 13, 13, 64)        18496     \n",
      "                                                                 \n",
      " max_pooling2d_1 (MaxPoolin  (None, 6, 6, 64)          0         \n",
      " g2D)                                                            \n",
      "                                                                 \n",
      " conv2d_2 (Conv2D)           (None, 4, 4, 64)          36928     \n",
      "                                                                 \n",
      " flatten (Flatten)           (None, 1024)              0         \n",
      "                                                                 \n",
      " dense (Dense)               (None, 64)                65600     \n",
      "                                                                 \n",
      " dense_1 (Dense)             (None, 10)                650       \n",
      "                                                                 \n",
      "=================================================================\n",
      "Total params: 122570 (478.79 KB)\n",
      "Trainable params: 122570 (478.79 KB)\n",
      "Non-trainable params: 0 (0.00 Byte)\n",
      "_________________________________________________________________\n"
     ]
    }
   ],
   "source": [
    "model.summary()"
   ]
  },
  {
   "cell_type": "markdown",
   "id": "e5f21177",
   "metadata": {},
   "source": [
    "## Training"
   ]
  },
  {
   "cell_type": "code",
   "execution_count": 8,
   "id": "6f8d9eeb",
   "metadata": {},
   "outputs": [
    {
     "name": "stdout",
     "output_type": "stream",
     "text": [
      "Epoch 1/5\n",
      "1563/1563 [==============================] - 117s 55ms/step - loss: 1.5431 - accuracy: 0.4376 - val_loss: 1.2656 - val_accuracy: 0.5401\n",
      "Epoch 2/5\n",
      "1563/1563 [==============================] - 70s 45ms/step - loss: 1.1868 - accuracy: 0.5786 - val_loss: 1.1217 - val_accuracy: 0.5986\n",
      "Epoch 3/5\n",
      "1563/1563 [==============================] - 71s 45ms/step - loss: 1.0302 - accuracy: 0.6393 - val_loss: 1.0058 - val_accuracy: 0.6407\n",
      "Epoch 4/5\n",
      "1563/1563 [==============================] - 71s 45ms/step - loss: 0.9319 - accuracy: 0.6726 - val_loss: 0.9498 - val_accuracy: 0.6665\n",
      "Epoch 5/5\n",
      "1563/1563 [==============================] - 71s 46ms/step - loss: 0.8634 - accuracy: 0.6958 - val_loss: 0.9286 - val_accuracy: 0.6786\n"
     ]
    }
   ],
   "source": [
    "#we will train and compile the model using the recommended hyper paramaters from tensorflow NB this will take much longer\n",
    "model.compile(optimizer='adam',\n",
    "             loss=tf.keras.losses.SparseCategoricalCrossentropy(from_logits = True),\n",
    "             metrics= ['accuracy'])\n",
    "history = model.fit(train_images, train_labels, epochs = 5,\n",
    "                   validation_data=(test_images,test_labels))"
   ]
  },
  {
   "cell_type": "markdown",
   "id": "99a3d2ce",
   "metadata": {},
   "source": [
    "# Evaluating the Model\n",
    "we can determine how well the model performed by looking at its performance on the test data set"
   ]
  },
  {
   "cell_type": "code",
   "execution_count": 9,
   "id": "456b0d01",
   "metadata": {},
   "outputs": [
    {
     "name": "stdout",
     "output_type": "stream",
     "text": [
      "313/313 - 5s - loss: 0.9286 - accuracy: 0.6786 - 5s/epoch - 15ms/step\n",
      "0.678600013256073\n"
     ]
    }
   ],
   "source": [
    "test_loss, test_acc = model.evaluate(test_images, test_labels, verbose=2)\n",
    "print(test_acc)\n",
    "# you should be getting the accuracy of about 70 %  for this model of computer vision"
   ]
  },
  {
   "cell_type": "markdown",
   "id": "981d5f5c",
   "metadata": {},
   "source": [
    "# WORKING with small Datasets\n"
   ]
  },
  {
   "cell_type": "markdown",
   "id": "4377ac76",
   "metadata": {},
   "source": [
    "in this situationwhere you do not have millions of data  to train a CNN from scratch that pertforms well. this is why we will learn about a few techniques we can use to train CNN on small datasets or just a few thousands"
   ]
  },
  {
   "cell_type": "markdown",
   "id": "dae52f60",
   "metadata": {},
   "source": [
    "# Data Augmentation"
   ]
  },
  {
   "cell_type": "markdown",
   "id": "d850e5ab",
   "metadata": {},
   "source": [
    "to avoid overfitting a model and create a larger data set from a smaller one we can use a technique called data augmentation. this is simplly performining random transformation on our images so that our model can generalize better this transormations can be things like compressions, rotations, stretches and even color changers.\n",
    "### this is done with Keras"
   ]
  },
  {
   "cell_type": "code",
   "execution_count": null,
   "id": "6577c809",
   "metadata": {},
   "outputs": [],
   "source": [
    "from keras"
   ]
  }
 ],
 "metadata": {
  "kernelspec": {
   "display_name": "Python 3 (ipykernel)",
   "language": "python",
   "name": "python3"
  },
  "language_info": {
   "codemirror_mode": {
    "name": "ipython",
    "version": 3
   },
   "file_extension": ".py",
   "mimetype": "text/x-python",
   "name": "python",
   "nbconvert_exporter": "python",
   "pygments_lexer": "ipython3",
   "version": "3.9.13"
  }
 },
 "nbformat": 4,
 "nbformat_minor": 5
}
